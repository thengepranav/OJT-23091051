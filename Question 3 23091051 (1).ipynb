{
 "cells": [
  {
   "cell_type": "code",
   "execution_count": null,
   "id": "dedda76f",
   "metadata": {},
   "outputs": [],
   "source": [
    "Q3"
   ]
  },
  {
   "cell_type": "code",
   "execution_count": 1,
   "id": "fb698de5",
   "metadata": {},
   "outputs": [
    {
     "name": "stdout",
     "output_type": "stream",
     "text": [
      "Matrix U:\n",
      "[[-0.46659592  0.10065472 -0.02287376  0.32537883 -0.81594257]\n",
      " [-0.501475   -0.53162269 -0.44588159  0.35524809  0.37535123]\n",
      " [-0.39771671  0.79009347 -0.34775324 -0.11898872  0.2871987 ]\n",
      " [-0.34525211 -0.28793584 -0.11189547 -0.8675511  -0.18090999]\n",
      " [-0.50342177  0.00954962  0.81683137  0.03352891  0.27953113]]\n",
      "\n",
      "Matrix Σ:\n",
      "[[25.72194822  0.          0.          0.          0.        ]\n",
      " [ 0.          6.67758506  0.          0.          0.        ]\n",
      " [ 0.          0.          5.2344033   0.          0.        ]\n",
      " [ 0.          0.          0.          3.47436002  0.        ]\n",
      " [ 0.          0.          0.          0.          0.56664098]]\n",
      "\n",
      "Matrix V^T:\n",
      "[[-0.46266698 -0.21506951 -0.62229342 -0.40492701 -0.43413062]\n",
      " [-0.43787392  0.67111646  0.16711085 -0.46880483  0.33191132]\n",
      " [-0.45347919 -0.66990494  0.24807708 -0.07326397  0.52789596]\n",
      " [ 0.41919976 -0.00398332 -0.63173596 -0.17840305  0.62716642]\n",
      " [-0.46133922  0.23357934 -0.35240928  0.76096051  0.17132896]]\n",
      "\n",
      "Is A equal to U * Σ * V^T? True\n",
      "\n",
      "Rank 2 Approximation of A:\n",
      "[[5.25850785 3.03228961 7.58093409 4.54473715 5.43341749]\n",
      " [7.52233457 0.39172935 7.43367305 6.88735495 4.42154296]\n",
      " [2.42291947 5.74092586 7.24775476 1.66904786 6.19231366]\n",
      " [4.95064771 0.61957065 5.20500544 4.49735592 3.21715048]\n",
      " [5.96314695 2.82772869 8.0687268  5.21350025 5.64271791]]\n",
      "\n",
      "Rank 3 Approximation of A:\n",
      "[[ 5.31280314  3.11249766  7.5512317   4.55350908  5.37021223]\n",
      " [ 8.58072057  1.9552366   6.85467998  7.05834748  3.18947387]\n",
      " [ 3.2483789   6.9603409   6.79618483  1.80240885  5.23139483]\n",
      " [ 5.2162532   1.011938    5.0597052   4.54026706  2.90795864]\n",
      " [ 4.02424005 -0.03653349  9.12941132  4.90025102  7.89980299]]\n"
     ]
    }
   ],
   "source": [
    "import numpy as np\n",
    "\n",
    "# Define the matrix A (use the same code for generating A as in the previous question)\n",
    "np.random.seed(42)\n",
    "A = np.random.randint(0, 10, (5, 5))\n",
    "\n",
    "# Perform Singular Value Decomposition (SVD)\n",
    "U, S, Vt = np.linalg.svd(A, full_matrices=False)\n",
    "\n",
    "# Create the diagonal matrix Σ from the singular values\n",
    "Sigma = np.diag(S)\n",
    "\n",
    "# Print the matrices U, Σ, and V^T\n",
    "print(\"Matrix U:\")\n",
    "print(U)\n",
    "print(\"\\nMatrix Σ:\")\n",
    "print(Sigma)\n",
    "print(\"\\nMatrix V^T:\")\n",
    "print(Vt)\n",
    "print()\n",
    "\n",
    "# Verify that A equals the product of U, Σ, and V^T\n",
    "reconstructed_A = np.dot(U, np.dot(Sigma, Vt))\n",
    "print(\"Is A equal to U * Σ * V^T?\", np.allclose(A, reconstructed_A))\n",
    "print()\n",
    "\n",
    "# Find the rank 2 and rank 3 approximations of matrix A\n",
    "rank_2_approx = np.dot(U[:, :2], np.dot(np.diag(S[:2]), Vt[:2, :]))\n",
    "rank_3_approx = np.dot(U[:, :3], np.dot(np.diag(S[:3]), Vt[:3, :]))\n",
    "\n",
    "print(\"Rank 2 Approximation of A:\")\n",
    "print(rank_2_approx)\n",
    "print(\"\\nRank 3 Approximation of A:\")\n",
    "print(rank_3_approx)\n"
   ]
  },
  {
   "cell_type": "code",
   "execution_count": null,
   "id": "cfe663e5",
   "metadata": {},
   "outputs": [],
   "source": []
  }
 ],
 "metadata": {
  "kernelspec": {
   "display_name": "Python 3 (ipykernel)",
   "language": "python",
   "name": "python3"
  },
  "language_info": {
   "codemirror_mode": {
    "name": "ipython",
    "version": 3
   },
   "file_extension": ".py",
   "mimetype": "text/x-python",
   "name": "python",
   "nbconvert_exporter": "python",
   "pygments_lexer": "ipython3",
   "version": "3.11.5"
  }
 },
 "nbformat": 4,
 "nbformat_minor": 5
}
