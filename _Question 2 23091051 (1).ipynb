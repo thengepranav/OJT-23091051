{
 "cells": [
  {
   "cell_type": "code",
   "execution_count": null,
   "id": "c96640db",
   "metadata": {},
   "outputs": [],
   "source": [
    "Q2 Row echelon Form : Create a 5x5 matrix, A, with entries randomly chosen integers between 0 and 9. To generate the random matrix, \n",
    "set the random seed as the last two digits of your roll number. Reduce matrix A to its Row Echelon Form by performing elementary row operations.\n",
    "\n"
   ]
  },
  {
   "cell_type": "code",
   "execution_count": 9,
   "id": "ab6fddea",
   "metadata": {},
   "outputs": [
    {
     "name": "stdout",
     "output_type": "stream",
     "text": [
      "Original Matrix A:\n",
      "[[3 9 4 6 7]\n",
      " [2 0 6 8 5]\n",
      " [3 0 6 6 0]\n",
      " [9 5 7 5 2]\n",
      " [6 9 3 3 9]]\n",
      "\n",
      "Row Echelon Form of Matrix A:\n",
      "[[ 1.          3.          1.33333333  2.          2.33333333]\n",
      " [-0.          1.         -0.55555556 -0.66666667 -0.05555556]\n",
      " [-0.         -0.          1.          2.          2.5       ]\n",
      " [ 0.          0.          0.          1.          3.36885246]\n",
      " [ 0.          0.          0.          0.          1.        ]]\n"
     ]
    }
   ],
   "source": [
    "import numpy as np\n",
    "\n",
    "seed = 20  \n",
    "np.random.seed(seed)\n",
    "\n",
    "\n",
    "A = np.random.randint(0, 10, (5, 5))\n",
    "\n",
    "\n",
    "print(\"Original Matrix A:\")\n",
    "print(A)\n",
    "print()\n",
    "\n",
    "A = A.astype(float)\n",
    "for i in range(5):\n",
    "    # Find the first nonzero entry in the current row\n",
    "    pivot = np.argmax(A[i] != 0)\n",
    "    if pivot == len(A):  # Skip if row is all zeros\n",
    "        continue\n",
    "\n",
    "    \n",
    "    A[[i, pivot]] = A[[pivot, i]]\n",
    "\n",
    "    \n",
    "    A[i] /= A[i, i]\n",
    "\n",
    "    for k in range(i + 1, 5):\n",
    "        A[k] -= A[k, i] * A[i]\n",
    "\n",
    "\n",
    "print(\"Row Echelon Form of Matrix A:\")\n",
    "print(A)\n"
   ]
  },
  {
   "cell_type": "code",
   "execution_count": null,
   "id": "50a6d2a7",
   "metadata": {},
   "outputs": [],
   "source": [
    "\n"
   ]
  },
  {
   "cell_type": "code",
   "execution_count": null,
   "id": "4cab9d4c",
   "metadata": {},
   "outputs": [],
   "source": []
  },
  {
   "cell_type": "code",
   "execution_count": null,
   "id": "874bc12d",
   "metadata": {},
   "outputs": [],
   "source": []
  },
  {
   "cell_type": "code",
   "execution_count": null,
   "id": "b8fd8234",
   "metadata": {},
   "outputs": [],
   "source": []
  },
  {
   "cell_type": "code",
   "execution_count": null,
   "id": "a0a0e365",
   "metadata": {},
   "outputs": [],
   "source": []
  },
  {
   "cell_type": "code",
   "execution_count": null,
   "id": "75885219",
   "metadata": {},
   "outputs": [],
   "source": []
  },
  {
   "cell_type": "code",
   "execution_count": null,
   "id": "73939689",
   "metadata": {},
   "outputs": [],
   "source": []
  },
  {
   "cell_type": "code",
   "execution_count": null,
   "id": "e04c5fde",
   "metadata": {},
   "outputs": [],
   "source": []
  },
  {
   "cell_type": "code",
   "execution_count": null,
   "id": "eea431e6",
   "metadata": {},
   "outputs": [],
   "source": []
  },
  {
   "cell_type": "code",
   "execution_count": null,
   "id": "2f05a14a",
   "metadata": {},
   "outputs": [],
   "source": []
  },
  {
   "cell_type": "code",
   "execution_count": null,
   "id": "f03cddde",
   "metadata": {},
   "outputs": [],
   "source": []
  },
  {
   "cell_type": "code",
   "execution_count": null,
   "id": "197e9a46",
   "metadata": {},
   "outputs": [],
   "source": []
  },
  {
   "cell_type": "code",
   "execution_count": null,
   "id": "32affb9a",
   "metadata": {},
   "outputs": [],
   "source": []
  },
  {
   "cell_type": "code",
   "execution_count": null,
   "id": "e16b8339",
   "metadata": {},
   "outputs": [],
   "source": []
  },
  {
   "cell_type": "code",
   "execution_count": null,
   "id": "5f8ac8f7",
   "metadata": {},
   "outputs": [],
   "source": []
  },
  {
   "cell_type": "code",
   "execution_count": null,
   "id": "cf6f3933",
   "metadata": {},
   "outputs": [],
   "source": []
  },
  {
   "cell_type": "code",
   "execution_count": null,
   "id": "e0743df1",
   "metadata": {},
   "outputs": [],
   "source": []
  },
  {
   "cell_type": "code",
   "execution_count": null,
   "id": "ac3d517f",
   "metadata": {},
   "outputs": [],
   "source": []
  }
 ],
 "metadata": {
  "kernelspec": {
   "display_name": "Python 3 (ipykernel)",
   "language": "python",
   "name": "python3"
  },
  "language_info": {
   "codemirror_mode": {
    "name": "ipython",
    "version": 3
   },
   "file_extension": ".py",
   "mimetype": "text/x-python",
   "name": "python",
   "nbconvert_exporter": "python",
   "pygments_lexer": "ipython3",
   "version": "3.11.5"
  }
 },
 "nbformat": 4,
 "nbformat_minor": 5
}
